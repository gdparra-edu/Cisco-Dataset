{
 "cells": [
  {
   "cell_type": "code",
   "execution_count": 14,
   "metadata": {
    "collapsed": false
   },
   "outputs": [
    {
     "name": "stdout",
     "output_type": "stream",
     "text": [
      "Password is: infected666p\n",
      "(b'\\n7-Zip [64] 9.20  Copyright (c) 1999-2010 Igor Pavlov  2010-11-18\\np7zip Version 9.20 (locale=en_US.UTF-8,Utf16=on,HugeFiles=on,48 CPUs)\\n\\nProcessing archive: /home/cc/Contagio/APT/BIN_LetsGo_yahoosb_b21ba443726385c11802a8ad731771c0_2011-07-19-pcap.zip\\n\\nExtracting  BIN_LetsGo_yahoosb_b21ba443726385c11802a8ad731771c0_2011-07-19.pcap\\n\\nEverything is Ok\\n\\nSize:       312957\\nCompressed: 216365\\n', None)\n"
     ]
    }
   ],
   "source": [
    "import subprocess\n",
    "path_to_zip_file = \"/home/cc/Contagio/APT/BIN_LetsGo_yahoosb_b21ba443726385c11802a8ad731771c0_2011-07-19-pcap.zip\"\n",
    "destination_dir = \"/home/cc/Contagio/APT/unziped\"\n",
    "password=\"infected666p\"\n",
    "print(\"Password is: {}\".format(password))\n",
    "#subprocess.Popen([\"7z\", \"x\", \"-o{}\".format(destination_dir), path_to_zip_file,\"-p{}\".format(password)])\n",
    "system = subprocess.Popen([\"7z\", \"x\", \"-o{}\".format(destination_dir), path_to_zip_file, \"-p{}\".format(\"infected666p\")], stdout=subprocess.PIPE)\n",
    "print(system.communicate())"
   ]
  }
 ],
 "metadata": {
  "anaconda-cloud": {},
  "kernelspec": {
   "display_name": "Python [conda root]",
   "language": "python",
   "name": "conda-root-py"
  },
  "language_info": {
   "codemirror_mode": {
    "name": "ipython",
    "version": 3
   },
   "file_extension": ".py",
   "mimetype": "text/x-python",
   "name": "python",
   "nbconvert_exporter": "python",
   "pygments_lexer": "ipython3",
   "version": "3.5.2"
  }
 },
 "nbformat": 4,
 "nbformat_minor": 1
}
