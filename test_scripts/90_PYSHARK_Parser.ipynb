{
 "cells": [
  {
   "cell_type": "code",
   "execution_count": null,
   "metadata": {
    "collapsed": true
   },
   "outputs": [],
   "source": [
    "#PYSHARK PARSER\n",
    "import pyshark_parser\n",
    "from pyshark_parser import packet_util\n",
    "from pyshark_parser import layer_util\n",
    "from pyshark_parser import pcap_util\n",
    "\n",
    "print(dir(pyshark_parser.pcap_util))\n",
    "print(pyshark_parser.pcap_util.aggregate_layer(cap))"
   ]
  }
 ],
 "metadata": {
  "anaconda-cloud": {},
  "kernelspec": {
   "display_name": "Python [conda root]",
   "language": "python",
   "name": "conda-root-py"
  },
  "language_info": {
   "codemirror_mode": {
    "name": "ipython",
    "version": 3
   },
   "file_extension": ".py",
   "mimetype": "text/x-python",
   "name": "python",
   "nbconvert_exporter": "python",
   "pygments_lexer": "ipython3",
   "version": "3.5.2"
  }
 },
 "nbformat": 4,
 "nbformat_minor": 1
}
