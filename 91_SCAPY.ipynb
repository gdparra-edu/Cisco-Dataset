{
 "cells": [
  {
   "cell_type": "code",
   "execution_count": null,
   "metadata": {
    "collapsed": true
   },
   "outputs": [],
   "source": [
    "#SCAPY\n",
    "import scapy\n",
    "print(dir(scapy))\n",
    "data = pcap_dir+'/'+pcap_dir_files[1]\n",
    "a = rdpcap(data)\n",
    "sessions = a.sessions()\n",
    "i = 1\n",
    "for session in sessions:\n",
    "    http_payload = \"\"\n",
    "    for packet in sessions[session]:\n",
    "        print(packet)"
   ]
  }
 ],
 "metadata": {
  "anaconda-cloud": {},
  "kernelspec": {
   "display_name": "Python [conda root]",
   "language": "python",
   "name": "conda-root-py"
  },
  "language_info": {
   "codemirror_mode": {
    "name": "ipython",
    "version": 3
   },
   "file_extension": ".py",
   "mimetype": "text/x-python",
   "name": "python",
   "nbconvert_exporter": "python",
   "pygments_lexer": "ipython3",
   "version": "3.5.2"
  }
 },
 "nbformat": 4,
 "nbformat_minor": 1
}
